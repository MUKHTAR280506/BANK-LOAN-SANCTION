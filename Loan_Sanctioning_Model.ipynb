{
 "cells": [
  {
   "cell_type": "code",
   "execution_count": 1,
   "id": "bf854aad-6def-457f-8796-9cfd1770c0de",
   "metadata": {},
   "outputs": [],
   "source": [
    "# importing the libraries\n",
    "import pandas as pd\n",
    "import numpy as np\n",
    "import matplotlib.pyplot as plt\n",
    "import seaborn as sns\n",
    "\n",
    "import warnings\n",
    "warnings.filterwarnings(\"ignore\")"
   ]
  },
  {
   "cell_type": "code",
   "execution_count": 2,
   "id": "bf8aab07-1223-4f5e-924f-d0d13be4bde0",
   "metadata": {},
   "outputs": [
    {
     "data": {
      "text/html": [
       "<div>\n",
       "<style scoped>\n",
       "    .dataframe tbody tr th:only-of-type {\n",
       "        vertical-align: middle;\n",
       "    }\n",
       "\n",
       "    .dataframe tbody tr th {\n",
       "        vertical-align: top;\n",
       "    }\n",
       "\n",
       "    .dataframe thead th {\n",
       "        text-align: right;\n",
       "    }\n",
       "</style>\n",
       "<table border=\"1\" class=\"dataframe\">\n",
       "  <thead>\n",
       "    <tr style=\"text-align: right;\">\n",
       "      <th></th>\n",
       "      <th>loan_id</th>\n",
       "      <th>no_of_dependents</th>\n",
       "      <th>education</th>\n",
       "      <th>self_employed</th>\n",
       "      <th>income_annum</th>\n",
       "      <th>loan_amount</th>\n",
       "      <th>loan_term</th>\n",
       "      <th>cibil_score</th>\n",
       "      <th>residential_assets_value</th>\n",
       "      <th>commercial_assets_value</th>\n",
       "      <th>luxury_assets_value</th>\n",
       "      <th>bank_asset_value</th>\n",
       "      <th>loan_status</th>\n",
       "    </tr>\n",
       "  </thead>\n",
       "  <tbody>\n",
       "    <tr>\n",
       "      <th>0</th>\n",
       "      <td>1</td>\n",
       "      <td>2</td>\n",
       "      <td>Graduate</td>\n",
       "      <td>No</td>\n",
       "      <td>9600000</td>\n",
       "      <td>29900000</td>\n",
       "      <td>12</td>\n",
       "      <td>778</td>\n",
       "      <td>2400000</td>\n",
       "      <td>17600000</td>\n",
       "      <td>22700000</td>\n",
       "      <td>8000000</td>\n",
       "      <td>Approved</td>\n",
       "    </tr>\n",
       "    <tr>\n",
       "      <th>1</th>\n",
       "      <td>2</td>\n",
       "      <td>0</td>\n",
       "      <td>Not Graduate</td>\n",
       "      <td>Yes</td>\n",
       "      <td>4100000</td>\n",
       "      <td>12200000</td>\n",
       "      <td>8</td>\n",
       "      <td>417</td>\n",
       "      <td>2700000</td>\n",
       "      <td>2200000</td>\n",
       "      <td>8800000</td>\n",
       "      <td>3300000</td>\n",
       "      <td>Rejected</td>\n",
       "    </tr>\n",
       "    <tr>\n",
       "      <th>2</th>\n",
       "      <td>3</td>\n",
       "      <td>3</td>\n",
       "      <td>Graduate</td>\n",
       "      <td>No</td>\n",
       "      <td>9100000</td>\n",
       "      <td>29700000</td>\n",
       "      <td>20</td>\n",
       "      <td>506</td>\n",
       "      <td>7100000</td>\n",
       "      <td>4500000</td>\n",
       "      <td>33300000</td>\n",
       "      <td>12800000</td>\n",
       "      <td>Rejected</td>\n",
       "    </tr>\n",
       "    <tr>\n",
       "      <th>3</th>\n",
       "      <td>4</td>\n",
       "      <td>3</td>\n",
       "      <td>Graduate</td>\n",
       "      <td>No</td>\n",
       "      <td>8200000</td>\n",
       "      <td>30700000</td>\n",
       "      <td>8</td>\n",
       "      <td>467</td>\n",
       "      <td>18200000</td>\n",
       "      <td>3300000</td>\n",
       "      <td>23300000</td>\n",
       "      <td>7900000</td>\n",
       "      <td>Rejected</td>\n",
       "    </tr>\n",
       "    <tr>\n",
       "      <th>4</th>\n",
       "      <td>5</td>\n",
       "      <td>5</td>\n",
       "      <td>Not Graduate</td>\n",
       "      <td>Yes</td>\n",
       "      <td>9800000</td>\n",
       "      <td>24200000</td>\n",
       "      <td>20</td>\n",
       "      <td>382</td>\n",
       "      <td>12400000</td>\n",
       "      <td>8200000</td>\n",
       "      <td>29400000</td>\n",
       "      <td>5000000</td>\n",
       "      <td>Rejected</td>\n",
       "    </tr>\n",
       "  </tbody>\n",
       "</table>\n",
       "</div>"
      ],
      "text/plain": [
       "   loan_id   no_of_dependents      education  self_employed   income_annum  \\\n",
       "0        1                  2       Graduate             No        9600000   \n",
       "1        2                  0   Not Graduate            Yes        4100000   \n",
       "2        3                  3       Graduate             No        9100000   \n",
       "3        4                  3       Graduate             No        8200000   \n",
       "4        5                  5   Not Graduate            Yes        9800000   \n",
       "\n",
       "    loan_amount   loan_term   cibil_score   residential_assets_value  \\\n",
       "0      29900000          12           778                    2400000   \n",
       "1      12200000           8           417                    2700000   \n",
       "2      29700000          20           506                    7100000   \n",
       "3      30700000           8           467                   18200000   \n",
       "4      24200000          20           382                   12400000   \n",
       "\n",
       "    commercial_assets_value   luxury_assets_value   bank_asset_value  \\\n",
       "0                  17600000              22700000            8000000   \n",
       "1                   2200000               8800000            3300000   \n",
       "2                   4500000              33300000           12800000   \n",
       "3                   3300000              23300000            7900000   \n",
       "4                   8200000              29400000            5000000   \n",
       "\n",
       "   loan_status  \n",
       "0     Approved  \n",
       "1     Rejected  \n",
       "2     Rejected  \n",
       "3     Rejected  \n",
       "4     Rejected  "
      ]
     },
     "execution_count": 2,
     "metadata": {},
     "output_type": "execute_result"
    }
   ],
   "source": [
    "# Load the dataset in pandas dataframe from a csv file\n",
    "loan_data = pd.read_csv(\"loan_approval_dataset.csv\")\n",
    "loan_data.head()"
   ]
  },
  {
   "cell_type": "code",
   "execution_count": 3,
   "id": "14504b43-9ebe-47a3-87a8-e6b6217f1a65",
   "metadata": {},
   "outputs": [
    {
     "name": "stdout",
     "output_type": "stream",
     "text": [
      "<class 'pandas.core.frame.DataFrame'>\n",
      "RangeIndex: 4269 entries, 0 to 4268\n",
      "Data columns (total 13 columns):\n",
      " #   Column                     Non-Null Count  Dtype \n",
      "---  ------                     --------------  ----- \n",
      " 0   loan_id                    4269 non-null   int64 \n",
      " 1    no_of_dependents          4269 non-null   int64 \n",
      " 2    education                 4269 non-null   object\n",
      " 3    self_employed             4269 non-null   object\n",
      " 4    income_annum              4269 non-null   int64 \n",
      " 5    loan_amount               4269 non-null   int64 \n",
      " 6    loan_term                 4269 non-null   int64 \n",
      " 7    cibil_score               4269 non-null   int64 \n",
      " 8    residential_assets_value  4269 non-null   int64 \n",
      " 9    commercial_assets_value   4269 non-null   int64 \n",
      " 10   luxury_assets_value       4269 non-null   int64 \n",
      " 11   bank_asset_value          4269 non-null   int64 \n",
      " 12   loan_status               4269 non-null   object\n",
      "dtypes: int64(10), object(3)\n",
      "memory usage: 433.7+ KB\n"
     ]
    }
   ],
   "source": [
    "# information about dataset\n",
    "loan_data.info()"
   ]
  },
  {
   "cell_type": "code",
   "execution_count": 4,
   "id": "69090217-b95b-4e34-8b65-3af62abefcc9",
   "metadata": {},
   "outputs": [
    {
     "data": {
      "text/plain": [
       "loan_id                      0\n",
       " no_of_dependents            0\n",
       " education                   0\n",
       " self_employed               0\n",
       " income_annum                0\n",
       " loan_amount                 0\n",
       " loan_term                   0\n",
       " cibil_score                 0\n",
       " residential_assets_value    0\n",
       " commercial_assets_value     0\n",
       " luxury_assets_value         0\n",
       " bank_asset_value            0\n",
       " loan_status                 0\n",
       "dtype: int64"
      ]
     },
     "execution_count": 4,
     "metadata": {},
     "output_type": "execute_result"
    }
   ],
   "source": [
    "# check for any null values\n",
    "loan_data.isnull().sum()"
   ]
  },
  {
   "cell_type": "code",
   "execution_count": 5,
   "id": "94532f1d-b545-4746-91f9-a65c7ff23c55",
   "metadata": {},
   "outputs": [],
   "source": [
    "# drop unuseful columns like loan_id\n",
    "loan_data.drop(\"loan_id\", axis=1, inplace =True)"
   ]
  },
  {
   "cell_type": "code",
   "execution_count": 6,
   "id": "e58b863a-755d-45f9-a1b1-9c07183b95dc",
   "metadata": {},
   "outputs": [
    {
     "data": {
      "text/html": [
       "<div>\n",
       "<style scoped>\n",
       "    .dataframe tbody tr th:only-of-type {\n",
       "        vertical-align: middle;\n",
       "    }\n",
       "\n",
       "    .dataframe tbody tr th {\n",
       "        vertical-align: top;\n",
       "    }\n",
       "\n",
       "    .dataframe thead th {\n",
       "        text-align: right;\n",
       "    }\n",
       "</style>\n",
       "<table border=\"1\" class=\"dataframe\">\n",
       "  <thead>\n",
       "    <tr style=\"text-align: right;\">\n",
       "      <th></th>\n",
       "      <th>no_of_dependents</th>\n",
       "      <th>education</th>\n",
       "      <th>self_employed</th>\n",
       "      <th>income_annum</th>\n",
       "      <th>loan_amount</th>\n",
       "      <th>loan_term</th>\n",
       "      <th>cibil_score</th>\n",
       "      <th>residential_assets_value</th>\n",
       "      <th>commercial_assets_value</th>\n",
       "      <th>luxury_assets_value</th>\n",
       "      <th>bank_asset_value</th>\n",
       "      <th>loan_status</th>\n",
       "    </tr>\n",
       "  </thead>\n",
       "  <tbody>\n",
       "    <tr>\n",
       "      <th>0</th>\n",
       "      <td>2</td>\n",
       "      <td>Graduate</td>\n",
       "      <td>No</td>\n",
       "      <td>9600000</td>\n",
       "      <td>29900000</td>\n",
       "      <td>12</td>\n",
       "      <td>778</td>\n",
       "      <td>2400000</td>\n",
       "      <td>17600000</td>\n",
       "      <td>22700000</td>\n",
       "      <td>8000000</td>\n",
       "      <td>Approved</td>\n",
       "    </tr>\n",
       "    <tr>\n",
       "      <th>1</th>\n",
       "      <td>0</td>\n",
       "      <td>Not Graduate</td>\n",
       "      <td>Yes</td>\n",
       "      <td>4100000</td>\n",
       "      <td>12200000</td>\n",
       "      <td>8</td>\n",
       "      <td>417</td>\n",
       "      <td>2700000</td>\n",
       "      <td>2200000</td>\n",
       "      <td>8800000</td>\n",
       "      <td>3300000</td>\n",
       "      <td>Rejected</td>\n",
       "    </tr>\n",
       "  </tbody>\n",
       "</table>\n",
       "</div>"
      ],
      "text/plain": [
       "    no_of_dependents      education  self_employed   income_annum  \\\n",
       "0                  2       Graduate             No        9600000   \n",
       "1                  0   Not Graduate            Yes        4100000   \n",
       "\n",
       "    loan_amount   loan_term   cibil_score   residential_assets_value  \\\n",
       "0      29900000          12           778                    2400000   \n",
       "1      12200000           8           417                    2700000   \n",
       "\n",
       "    commercial_assets_value   luxury_assets_value   bank_asset_value  \\\n",
       "0                  17600000              22700000            8000000   \n",
       "1                   2200000               8800000            3300000   \n",
       "\n",
       "   loan_status  \n",
       "0     Approved  \n",
       "1     Rejected  "
      ]
     },
     "execution_count": 6,
     "metadata": {},
     "output_type": "execute_result"
    }
   ],
   "source": [
    "loan_data.head(2)"
   ]
  },
  {
   "cell_type": "code",
   "execution_count": 7,
   "id": "f16f23c8-28c1-4886-8491-218d97516440",
   "metadata": {},
   "outputs": [],
   "source": [
    "# remove any spaces  before or after column name\n",
    "loan_data.columns\n",
    "new_cols = []\n",
    "for cols in loan_data.columns:\n",
    "    new_cols.append(cols.strip())\n",
    "\n",
    "loan_data.columns = new_cols\n",
    "\n",
    "    "
   ]
  },
  {
   "cell_type": "code",
   "execution_count": 8,
   "id": "beba7e2e-f1d6-4ec5-922b-e4121690257a",
   "metadata": {},
   "outputs": [
    {
     "data": {
      "text/plain": [
       "Index(['no_of_dependents', 'education', 'self_employed', 'income_annum',\n",
       "       'loan_amount', 'loan_term', 'cibil_score', 'residential_assets_value',\n",
       "       'commercial_assets_value', 'luxury_assets_value', 'bank_asset_value',\n",
       "       'loan_status'],\n",
       "      dtype='object')"
      ]
     },
     "execution_count": 8,
     "metadata": {},
     "output_type": "execute_result"
    }
   ],
   "source": [
    "loan_data.columns"
   ]
  },
  {
   "cell_type": "code",
   "execution_count": 9,
   "id": "bcefd97c-5951-48f1-9807-5b3536aee5b4",
   "metadata": {},
   "outputs": [
    {
     "data": {
      "image/png": "[encoded data removed]",
      "text/plain": [
       "<Figure size 640x480 with 1 Axes>"
      ]
     },
     "metadata": {},
     "output_type": "display_data"
    },
    {
     "data": {
      "image/png": "[encoded data removed]",
      "text/plain": [
       "<Figure size 640x480 with 1 Axes>"
      ]
     },
     "metadata": {},
     "output_type": "display_data"
    },
    {
     "data": {
      "image/png": "[encoded data removed]",
      "text/plain": [
       "<Figure size 640x480 with 1 Axes>"
      ]
     },
     "metadata": {},
     "output_type": "display_data"
    },
    {
     "data": {
      "image/png": "[encoded data removed]",
      "text/plain": [
       "<Figure size 640x480 with 1 Axes>"
      ]
     },
     "metadata": {},
     "output_type": "display_data"
    },
    {
     "data": {
      "image/png": "[encoded data removed]",
      "text/plain": [
       "<Figure size 640x480 with 1 Axes>"
      ]
     },
     "metadata": {},
     "output_type": "display_data"
    },
    {
     "data": {
      "image/png": "[encoded data removed]",
      "text/plain": [
       "<Figure size 640x480 with 1 Axes>"
      ]
     },
     "metadata": {},
     "output_type": "display_data"
    },
    {
     "data": {
      "image/png": "[encoded data removed]",
      "text/plain": [
       "<Figure size 640x480 with 1 Axes>"
      ]
     },
     "metadata": {},
     "output_type": "display_data"
    },
    {
     "data": {
      "image/png": "[encoded data removed]",
      "text/plain": [
       "<Figure size 640x480 with 1 Axes>"
      ]
     },
     "metadata": {},
     "output_type": "display_data"
    },
    {
     "data": {
      "image/png": "[encoded data removed]",
      "text/plain": [
       "<Figure size 640x480 with 1 Axes>"
      ]
     },
     "metadata": {},
     "output_type": "display_data"
    }
   ],
   "source": [
    "# box plot  for visualizing outliers\n",
    "for cols in loan_data.columns:\n",
    "    if(loan_data[cols].dtype !='O'):\n",
    "        plt.boxplot(loan_data[cols], vert=False)\n",
    "        plt.title(cols)\n",
    "        plt.show()\n",
    "\n"
   ]
  },
  {
   "cell_type": "code",
   "execution_count": 10,
   "id": "82ce2458-8474-4f4f-bf2b-0a95a80ffb45",
   "metadata": {},
   "outputs": [
    {
     "name": "stdout",
     "output_type": "stream",
     "text": [
      "<class 'pandas.core.frame.DataFrame'>\n",
      "RangeIndex: 4269 entries, 0 to 4268\n",
      "Data columns (total 12 columns):\n",
      " #   Column                    Non-Null Count  Dtype \n",
      "---  ------                    --------------  ----- \n",
      " 0   no_of_dependents          4269 non-null   int64 \n",
      " 1   education                 4269 non-null   object\n",
      " 2   self_employed             4269 non-null   object\n",
      " 3   income_annum              4269 non-null   int64 \n",
      " 4   loan_amount               4269 non-null   int64 \n",
      " 5   loan_term                 4269 non-null   int64 \n",
      " 6   cibil_score               4269 non-null   int64 \n",
      " 7   residential_assets_value  4269 non-null   int64 \n",
      " 8   commercial_assets_value   4269 non-null   int64 \n",
      " 9   luxury_assets_value       4269 non-null   int64 \n",
      " 10  bank_asset_value          4269 non-null   int64 \n",
      " 11  loan_status               4269 non-null   object\n",
      "dtypes: int64(9), object(3)\n",
      "memory usage: 400.3+ KB\n"
     ]
    }
   ],
   "source": [
    "loan_data.info()"
   ]
  },
  {
   "cell_type": "code",
   "execution_count": 11,
   "id": "91d021aa-7a7c-4ca5-b9c9-12177a236486",
   "metadata": {},
   "outputs": [
    {
     "name": "stdout",
     "output_type": "stream",
     "text": [
      "value count of education is education\n",
      " Graduate        2144\n",
      " Not Graduate    2125\n",
      "Name: count, dtype: int64\n"
     ]
    },
    {
     "data": {
      "image/png": "[encoded data removed]",
      "text/plain": [
       "<Figure size 640x480 with 1 Axes>"
      ]
     },
     "metadata": {},
     "output_type": "display_data"
    },
    {
     "name": "stdout",
     "output_type": "stream",
     "text": [
      "value count of self_employed is self_employed\n",
      " Yes    2150\n",
      " No     2119\n",
      "Name: count, dtype: int64\n"
     ]
    },
    {
     "data": {
      "image/png": "[encoded data removed]",
      "text/plain": [
       "<Figure size 640x480 with 1 Axes>"
      ]
     },
     "metadata": {},
     "output_type": "display_data"
    },
    {
     "name": "stdout",
     "output_type": "stream",
     "text": [
      "value count of loan_status is loan_status\n",
      " Approved    2656\n",
      " Rejected    1613\n",
      "Name: count, dtype: int64\n"
     ]
    },
    {
     "data": {
      "image/png": "[encoded data removed]",
      "text/plain": [
       "<Figure size 640x480 with 1 Axes>"
      ]
     },
     "metadata": {},
     "output_type": "display_data"
    }
   ],
   "source": [
    "# histplot for categorical columns\n",
    "\n",
    "for cols in loan_data.columns:\n",
    "    if(loan_data[cols].dtype=='O'):\n",
    "        print(f\"value count of {cols} is {loan_data[cols].value_counts()}\") \n",
    "        plt.hist(loan_data[cols])\n",
    "        plt.title(cols)\n",
    "        plt.show()\n",
    "        "
   ]
  },
  {
   "cell_type": "code",
   "execution_count": 12,
   "id": "0bf0c7ca-fc93-4ffa-9fd1-f4bbf38a7af6",
   "metadata": {},
   "outputs": [
    {
     "name": "stdout",
     "output_type": "stream",
     "text": [
      "no_of_dependents ---- 0\n",
      "income_annum ---- 0\n",
      "loan_amount ---- 0\n",
      "loan_term ---- 0\n",
      "cibil_score ---- 0\n",
      "residential_assets_value ---- 52\n",
      "commercial_assets_value ---- 37\n",
      "luxury_assets_value ---- 0\n",
      "bank_asset_value ---- 5\n"
     ]
    }
   ],
   "source": [
    "# cheking the ourliers count \n",
    "for cols in loan_data.columns:\n",
    "    if(loan_data[cols].dtype!='O'):\n",
    "        q1 = loan_data[cols].quantile(0.25)\n",
    "        q3 = loan_data[cols].quantile(0.75)\n",
    "        iqr = q3-q1\n",
    "        lower_limit = q1 - 1.5 * iqr\n",
    "        upper_limit = q3 + 1.5 * iqr\n",
    "        print(cols ,\"----\", ((loan_data[cols]<lower_limit) | (loan_data[cols]>upper_limit)).sum())\n",
    "        "
   ]
  },
  {
   "cell_type": "code",
   "execution_count": 13,
   "id": "b1f8013e-9f9d-440a-9256-ea31f78510c5",
   "metadata": {},
   "outputs": [
    {
     "data": {
      "text/html": [
       "<div>\n",
       "<style scoped>\n",
       "    .dataframe tbody tr th:only-of-type {\n",
       "        vertical-align: middle;\n",
       "    }\n",
       "\n",
       "    .dataframe tbody tr th {\n",
       "        vertical-align: top;\n",
       "    }\n",
       "\n",
       "    .dataframe thead th {\n",
       "        text-align: right;\n",
       "    }\n",
       "</style>\n",
       "<table border=\"1\" class=\"dataframe\">\n",
       "  <thead>\n",
       "    <tr style=\"text-align: right;\">\n",
       "      <th></th>\n",
       "      <th>no_of_dependents</th>\n",
       "      <th>education</th>\n",
       "      <th>self_employed</th>\n",
       "      <th>income_annum</th>\n",
       "      <th>loan_amount</th>\n",
       "      <th>loan_term</th>\n",
       "      <th>cibil_score</th>\n",
       "      <th>residential_assets_value</th>\n",
       "      <th>commercial_assets_value</th>\n",
       "      <th>luxury_assets_value</th>\n",
       "      <th>bank_asset_value</th>\n",
       "      <th>loan_status</th>\n",
       "    </tr>\n",
       "  </thead>\n",
       "  <tbody>\n",
       "    <tr>\n",
       "      <th>0</th>\n",
       "      <td>2</td>\n",
       "      <td>Graduate</td>\n",
       "      <td>No</td>\n",
       "      <td>9600000</td>\n",
       "      <td>29900000</td>\n",
       "      <td>12</td>\n",
       "      <td>778</td>\n",
       "      <td>2400000</td>\n",
       "      <td>17600000</td>\n",
       "      <td>22700000</td>\n",
       "      <td>8000000</td>\n",
       "      <td>Approved</td>\n",
       "    </tr>\n",
       "    <tr>\n",
       "      <th>1</th>\n",
       "      <td>0</td>\n",
       "      <td>Not Graduate</td>\n",
       "      <td>Yes</td>\n",
       "      <td>4100000</td>\n",
       "      <td>12200000</td>\n",
       "      <td>8</td>\n",
       "      <td>417</td>\n",
       "      <td>2700000</td>\n",
       "      <td>2200000</td>\n",
       "      <td>8800000</td>\n",
       "      <td>3300000</td>\n",
       "      <td>Rejected</td>\n",
       "    </tr>\n",
       "  </tbody>\n",
       "</table>\n",
       "</div>"
      ],
      "text/plain": [
       "   no_of_dependents      education self_employed  income_annum  loan_amount  \\\n",
       "0                 2       Graduate            No       9600000     29900000   \n",
       "1                 0   Not Graduate           Yes       4100000     12200000   \n",
       "\n",
       "   loan_term  cibil_score  residential_assets_value  commercial_assets_value  \\\n",
       "0         12          778                   2400000                 17600000   \n",
       "1          8          417                   2700000                  2200000   \n",
       "\n",
       "   luxury_assets_value  bank_asset_value loan_status  \n",
       "0             22700000           8000000    Approved  \n",
       "1              8800000           3300000    Rejected  "
      ]
     },
     "execution_count": 13,
     "metadata": {},
     "output_type": "execute_result"
    }
   ],
   "source": [
    "loan_data.head(2)"
   ]
  },
  {
   "cell_type": "code",
   "execution_count": 14,
   "id": "b66d15f1-dbd5-4254-8db3-4a612b4b0832",
   "metadata": {},
   "outputs": [
    {
     "name": "stdout",
     "output_type": "stream",
     "text": [
      "education\n",
      " Graduate        2144\n",
      " Not Graduate    2125\n",
      "Name: count, dtype: int64\n",
      "self_employed\n",
      " Yes    2150\n",
      " No     2119\n",
      "Name: count, dtype: int64\n",
      "loan_status\n",
      " Approved    2656\n",
      " Rejected    1613\n",
      "Name: count, dtype: int64\n"
     ]
    }
   ],
   "source": [
    "# checking the value counts of categorical columns\n",
    "print(loan_data[\"education\"].value_counts())\n",
    "print(loan_data[\"self_employed\"].value_counts())\n",
    "print(loan_data[\"loan_status\"].value_counts())\n"
   ]
  },
  {
   "cell_type": "code",
   "execution_count": 27,
   "id": "af128314-b69d-48de-9835-ff19fe75ae4d",
   "metadata": {},
   "outputs": [],
   "source": [
    "# Converting categorical values into numerical values ... Transforming the value ( part of feature engineering)\n",
    "\n",
    "loan_data[\"education\"].replace({\" Graduate\":0 , \" Not Graduate\":1} , inplace= True)\n",
    "loan_data[\"self_employed\"].replace({\" Yes\":0, \" No\":1}, inplace=True)\n",
    "loan_data[\"loan_status\"].replace({\" Approved\":0,\" Rejected\":1}, inplace= True)\n"
   ]
  },
  {
   "cell_type": "code",
   "execution_count": 29,
   "id": "c67c19b2-4070-4444-99ad-63c2f55ef35d",
   "metadata": {},
   "outputs": [
    {
     "data": {
      "text/html": [
       "<div>\n",
       "<style scoped>\n",
       "    .dataframe tbody tr th:only-of-type {\n",
       "        vertical-align: middle;\n",
       "    }\n",
       "\n",
       "    .dataframe tbody tr th {\n",
       "        vertical-align: top;\n",
       "    }\n",
       "\n",
       "    .dataframe thead th {\n",
       "        text-align: right;\n",
       "    }\n",
       "</style>\n",
       "<table border=\"1\" class=\"dataframe\">\n",
       "  <thead>\n",
       "    <tr style=\"text-align: right;\">\n",
       "      <th></th>\n",
       "      <th>no_of_dependents</th>\n",
       "      <th>education</th>\n",
       "      <th>self_employed</th>\n",
       "      <th>income_annum</th>\n",
       "      <th>loan_amount</th>\n",
       "      <th>loan_term</th>\n",
       "      <th>cibil_score</th>\n",
       "      <th>residential_assets_value</th>\n",
       "      <th>commercial_assets_value</th>\n",
       "      <th>luxury_assets_value</th>\n",
       "      <th>bank_asset_value</th>\n",
       "      <th>loan_status</th>\n",
       "    </tr>\n",
       "  </thead>\n",
       "  <tbody>\n",
       "    <tr>\n",
       "      <th>0</th>\n",
       "      <td>2</td>\n",
       "      <td>0</td>\n",
       "      <td>1</td>\n",
       "      <td>9600000</td>\n",
       "      <td>29900000</td>\n",
       "      <td>12</td>\n",
       "      <td>778</td>\n",
       "      <td>2400000</td>\n",
       "      <td>17600000</td>\n",
       "      <td>22700000</td>\n",
       "      <td>8000000</td>\n",
       "      <td>0</td>\n",
       "    </tr>\n",
       "    <tr>\n",
       "      <th>1</th>\n",
       "      <td>0</td>\n",
       "      <td>1</td>\n",
       "      <td>0</td>\n",
       "      <td>4100000</td>\n",
       "      <td>12200000</td>\n",
       "      <td>8</td>\n",
       "      <td>417</td>\n",
       "      <td>2700000</td>\n",
       "      <td>2200000</td>\n",
       "      <td>8800000</td>\n",
       "      <td>3300000</td>\n",
       "      <td>1</td>\n",
       "    </tr>\n",
       "    <tr>\n",
       "      <th>2</th>\n",
       "      <td>3</td>\n",
       "      <td>0</td>\n",
       "      <td>1</td>\n",
       "      <td>9100000</td>\n",
       "      <td>29700000</td>\n",
       "      <td>20</td>\n",
       "      <td>506</td>\n",
       "      <td>7100000</td>\n",
       "      <td>4500000</td>\n",
       "      <td>33300000</td>\n",
       "      <td>12800000</td>\n",
       "      <td>1</td>\n",
       "    </tr>\n",
       "    <tr>\n",
       "      <th>3</th>\n",
       "      <td>3</td>\n",
       "      <td>0</td>\n",
       "      <td>1</td>\n",
       "      <td>8200000</td>\n",
       "      <td>30700000</td>\n",
       "      <td>8</td>\n",
       "      <td>467</td>\n",
       "      <td>18200000</td>\n",
       "      <td>3300000</td>\n",
       "      <td>23300000</td>\n",
       "      <td>7900000</td>\n",
       "      <td>1</td>\n",
       "    </tr>\n",
       "    <tr>\n",
       "      <th>4</th>\n",
       "      <td>5</td>\n",
       "      <td>1</td>\n",
       "      <td>0</td>\n",
       "      <td>9800000</td>\n",
       "      <td>24200000</td>\n",
       "      <td>20</td>\n",
       "      <td>382</td>\n",
       "      <td>12400000</td>\n",
       "      <td>8200000</td>\n",
       "      <td>29400000</td>\n",
       "      <td>5000000</td>\n",
       "      <td>1</td>\n",
       "    </tr>\n",
       "  </tbody>\n",
       "</table>\n",
       "</div>"
      ],
      "text/plain": [
       "   no_of_dependents  education  self_employed  income_annum  loan_amount  \\\n",
       "0                 2          0              1       9600000     29900000   \n",
       "1                 0          1              0       4100000     12200000   \n",
       "2                 3          0              1       9100000     29700000   \n",
       "3                 3          0              1       8200000     30700000   \n",
       "4                 5          1              0       9800000     24200000   \n",
       "\n",
       "   loan_term  cibil_score  residential_assets_value  commercial_assets_value  \\\n",
       "0         12          778                   2400000                 17600000   \n",
       "1          8          417                   2700000                  2200000   \n",
       "2         20          506                   7100000                  4500000   \n",
       "3          8          467                  18200000                  3300000   \n",
       "4         20          382                  12400000                  8200000   \n",
       "\n",
       "   luxury_assets_value  bank_asset_value  loan_status  \n",
       "0             22700000           8000000            0  \n",
       "1              8800000           3300000            1  \n",
       "2             33300000          12800000            1  \n",
       "3             23300000           7900000            1  \n",
       "4             29400000           5000000            1  "
      ]
     },
     "execution_count": 29,
     "metadata": {},
     "output_type": "execute_result"
    }
   ],
   "source": [
    "loan_data.head()"
   ]
  },
  {
   "cell_type": "code",
   "execution_count": 32,
   "id": "e7706361-3933-4fdc-b581-e027264509cd",
   "metadata": {},
   "outputs": [],
   "source": [
    "# segregating dependent and independent variables\n",
    "x_loan_data = loan_data.drop(\"loan_status\" , axis=1)\n",
    "y_loan_data = loan_data[\"loan_status\"]\n"
   ]
  },
  {
   "cell_type": "code",
   "execution_count": 33,
   "id": "b9209ef7-2006-40a4-9a04-88ddbad02ca9",
   "metadata": {},
   "outputs": [],
   "source": [
    "# using scaling techniques like standard scaler to feature scaling\n",
    "from sklearn.preprocessing import StandardScaler\n",
    "std_scaler =  StandardScaler()\n",
    "x_scaled_loan_data = std_scaler.fit_transform(x_loan_data)\n"
   ]
  },
  {
   "cell_type": "code",
   "execution_count": 35,
   "id": "7d81bed4-5fa6-4983-a704-977bcc016920",
   "metadata": {},
   "outputs": [
    {
     "data": {
      "text/html": [
       "<div>\n",
       "<style scoped>\n",
       "    .dataframe tbody tr th:only-of-type {\n",
       "        vertical-align: middle;\n",
       "    }\n",
       "\n",
       "    .dataframe tbody tr th {\n",
       "        vertical-align: top;\n",
       "    }\n",
       "\n",
       "    .dataframe thead th {\n",
       "        text-align: right;\n",
       "    }\n",
       "</style>\n",
       "<table border=\"1\" class=\"dataframe\">\n",
       "  <thead>\n",
       "    <tr style=\"text-align: right;\">\n",
       "      <th></th>\n",
       "      <th>no_of_dependents</th>\n",
       "      <th>education</th>\n",
       "      <th>self_employed</th>\n",
       "      <th>income_annum</th>\n",
       "      <th>loan_amount</th>\n",
       "      <th>loan_term</th>\n",
       "      <th>cibil_score</th>\n",
       "      <th>residential_assets_value</th>\n",
       "      <th>commercial_assets_value</th>\n",
       "      <th>luxury_assets_value</th>\n",
       "      <th>bank_asset_value</th>\n",
       "    </tr>\n",
       "  </thead>\n",
       "  <tbody>\n",
       "    <tr>\n",
       "      <th>0</th>\n",
       "      <td>-0.294102</td>\n",
       "      <td>-0.995559</td>\n",
       "      <td>1.007288</td>\n",
       "      <td>1.617979</td>\n",
       "      <td>1.633052</td>\n",
       "      <td>0.192617</td>\n",
       "      <td>1.032792</td>\n",
       "      <td>-0.780058</td>\n",
       "      <td>2.877289</td>\n",
       "      <td>0.832028</td>\n",
       "      <td>0.930304</td>\n",
       "    </tr>\n",
       "    <tr>\n",
       "      <th>1</th>\n",
       "      <td>-1.473548</td>\n",
       "      <td>1.004461</td>\n",
       "      <td>-0.992765</td>\n",
       "      <td>-0.341750</td>\n",
       "      <td>-0.324414</td>\n",
       "      <td>-0.508091</td>\n",
       "      <td>-1.061051</td>\n",
       "      <td>-0.733924</td>\n",
       "      <td>-0.631921</td>\n",
       "      <td>-0.694993</td>\n",
       "      <td>-0.515936</td>\n",
       "    </tr>\n",
       "    <tr>\n",
       "      <th>2</th>\n",
       "      <td>0.295621</td>\n",
       "      <td>-0.995559</td>\n",
       "      <td>1.007288</td>\n",
       "      <td>1.439822</td>\n",
       "      <td>1.610933</td>\n",
       "      <td>1.594031</td>\n",
       "      <td>-0.544840</td>\n",
       "      <td>-0.057300</td>\n",
       "      <td>-0.107818</td>\n",
       "      <td>1.996520</td>\n",
       "      <td>2.407316</td>\n",
       "    </tr>\n",
       "    <tr>\n",
       "      <th>3</th>\n",
       "      <td>0.295621</td>\n",
       "      <td>-0.995559</td>\n",
       "      <td>1.007288</td>\n",
       "      <td>1.119139</td>\n",
       "      <td>1.721525</td>\n",
       "      <td>-0.508091</td>\n",
       "      <td>-0.771045</td>\n",
       "      <td>1.649637</td>\n",
       "      <td>-0.381263</td>\n",
       "      <td>0.897943</td>\n",
       "      <td>0.899533</td>\n",
       "    </tr>\n",
       "    <tr>\n",
       "      <th>4</th>\n",
       "      <td>1.475067</td>\n",
       "      <td>1.004461</td>\n",
       "      <td>-0.992765</td>\n",
       "      <td>1.689242</td>\n",
       "      <td>1.002681</td>\n",
       "      <td>1.594031</td>\n",
       "      <td>-1.264055</td>\n",
       "      <td>0.757724</td>\n",
       "      <td>0.735304</td>\n",
       "      <td>1.568075</td>\n",
       "      <td>0.007172</td>\n",
       "    </tr>\n",
       "    <tr>\n",
       "      <th>...</th>\n",
       "      <td>...</td>\n",
       "      <td>...</td>\n",
       "      <td>...</td>\n",
       "      <td>...</td>\n",
       "      <td>...</td>\n",
       "      <td>...</td>\n",
       "      <td>...</td>\n",
       "      <td>...</td>\n",
       "      <td>...</td>\n",
       "      <td>...</td>\n",
       "      <td>...</td>\n",
       "    </tr>\n",
       "    <tr>\n",
       "      <th>4264</th>\n",
       "      <td>1.475067</td>\n",
       "      <td>-0.995559</td>\n",
       "      <td>-0.992765</td>\n",
       "      <td>-1.446324</td>\n",
       "      <td>-1.419268</td>\n",
       "      <td>0.192617</td>\n",
       "      <td>-1.641063</td>\n",
       "      <td>-0.718546</td>\n",
       "      <td>-1.019301</td>\n",
       "      <td>-1.299210</td>\n",
       "      <td>-1.285213</td>\n",
       "    </tr>\n",
       "    <tr>\n",
       "      <th>4265</th>\n",
       "      <td>-1.473548</td>\n",
       "      <td>1.004461</td>\n",
       "      <td>-0.992765</td>\n",
       "      <td>-0.626801</td>\n",
       "      <td>-0.423946</td>\n",
       "      <td>1.594031</td>\n",
       "      <td>-0.237434</td>\n",
       "      <td>-0.503257</td>\n",
       "      <td>-0.472412</td>\n",
       "      <td>-0.453306</td>\n",
       "      <td>-0.946732</td>\n",
       "    </tr>\n",
       "    <tr>\n",
       "      <th>4266</th>\n",
       "      <td>-0.294102</td>\n",
       "      <td>1.004461</td>\n",
       "      <td>1.007288</td>\n",
       "      <td>0.513405</td>\n",
       "      <td>0.969504</td>\n",
       "      <td>1.243677</td>\n",
       "      <td>-0.829046</td>\n",
       "      <td>-0.964591</td>\n",
       "      <td>1.692361</td>\n",
       "      <td>0.326683</td>\n",
       "      <td>0.714907</td>\n",
       "    </tr>\n",
       "    <tr>\n",
       "      <th>4267</th>\n",
       "      <td>-0.883825</td>\n",
       "      <td>1.004461</td>\n",
       "      <td>1.007288</td>\n",
       "      <td>-0.341750</td>\n",
       "      <td>-0.258059</td>\n",
       "      <td>-0.508091</td>\n",
       "      <td>1.044393</td>\n",
       "      <td>0.111856</td>\n",
       "      <td>-0.973727</td>\n",
       "      <td>-0.112748</td>\n",
       "      <td>0.253341</td>\n",
       "    </tr>\n",
       "    <tr>\n",
       "      <th>4268</th>\n",
       "      <td>-0.883825</td>\n",
       "      <td>-0.995559</td>\n",
       "      <td>1.007288</td>\n",
       "      <td>1.475453</td>\n",
       "      <td>1.610933</td>\n",
       "      <td>-0.157737</td>\n",
       "      <td>0.040972</td>\n",
       "      <td>1.588126</td>\n",
       "      <td>1.555638</td>\n",
       "      <td>2.260178</td>\n",
       "      <td>2.161148</td>\n",
       "    </tr>\n",
       "  </tbody>\n",
       "</table>\n",
       "<p>4269 rows × 11 columns</p>\n",
       "</div>"
      ],
      "text/plain": [
       "      no_of_dependents  education  self_employed  income_annum  loan_amount  \\\n",
       "0            -0.294102  -0.995559       1.007288      1.617979     1.633052   \n",
       "1            -1.473548   1.004461      -0.992765     -0.341750    -0.324414   \n",
       "2             0.295621  -0.995559       1.007288      1.439822     1.610933   \n",
       "3             0.295621  -0.995559       1.007288      1.119139     1.721525   \n",
       "4             1.475067   1.004461      -0.992765      1.689242     1.002681   \n",
       "...                ...        ...            ...           ...          ...   \n",
       "4264          1.475067  -0.995559      -0.992765     -1.446324    -1.419268   \n",
       "4265         -1.473548   1.004461      -0.992765     -0.626801    -0.423946   \n",
       "4266         -0.294102   1.004461       1.007288      0.513405     0.969504   \n",
       "4267         -0.883825   1.004461       1.007288     -0.341750    -0.258059   \n",
       "4268         -0.883825  -0.995559       1.007288      1.475453     1.610933   \n",
       "\n",
       "      loan_term  cibil_score  residential_assets_value  \\\n",
       "0      0.192617     1.032792                 -0.780058   \n",
       "1     -0.508091    -1.061051                 -0.733924   \n",
       "2      1.594031    -0.544840                 -0.057300   \n",
       "3     -0.508091    -0.771045                  1.649637   \n",
       "4      1.594031    -1.264055                  0.757724   \n",
       "...         ...          ...                       ...   \n",
       "4264   0.192617    -1.641063                 -0.718546   \n",
       "4265   1.594031    -0.237434                 -0.503257   \n",
       "4266   1.243677    -0.829046                 -0.964591   \n",
       "4267  -0.508091     1.044393                  0.111856   \n",
       "4268  -0.157737     0.040972                  1.588126   \n",
       "\n",
       "      commercial_assets_value  luxury_assets_value  bank_asset_value  \n",
       "0                    2.877289             0.832028          0.930304  \n",
       "1                   -0.631921            -0.694993         -0.515936  \n",
       "2                   -0.107818             1.996520          2.407316  \n",
       "3                   -0.381263             0.897943          0.899533  \n",
       "4                    0.735304             1.568075          0.007172  \n",
       "...                       ...                  ...               ...  \n",
       "4264                -1.019301            -1.299210         -1.285213  \n",
       "4265                -0.472412            -0.453306         -0.946732  \n",
       "4266                 1.692361             0.326683          0.714907  \n",
       "4267                -0.973727            -0.112748          0.253341  \n",
       "4268                 1.555638             2.260178          2.161148  \n",
       "\n",
       "[4269 rows x 11 columns]"
      ]
     },
     "execution_count": 35,
     "metadata": {},
     "output_type": "execute_result"
    }
   ],
   "source": [
    "df_scaled_x = pd.DataFrame(x_scaled_loan_data , columns= x_loan_data.columns)\n",
    "df_scaled_x"
   ]
  },
  {
   "cell_type": "code",
   "execution_count": 36,
   "id": "971edddb-ffb2-46b5-af4d-647e4457d626",
   "metadata": {},
   "outputs": [],
   "source": [
    "# prepared train and test data\n",
    "from sklearn.model_selection import train_test_split\n",
    "X_train, X_test, y_train, y_test = train_test_split(df_scaled_x , y_loan_data, test_size=0.20 , random_state =87)"
   ]
  },
  {
   "cell_type": "code",
   "execution_count": 42,
   "id": "5e50b5fa-7ddc-4e6b-96f3-3488d79cf232",
   "metadata": {},
   "outputs": [
    {
     "data": {
      "text/plain": [
       "((3415, 11), (854, 11), (3415,), (854,))"
      ]
     },
     "execution_count": 42,
     "metadata": {},
     "output_type": "execute_result"
    }
   ],
   "source": [
    "X_train.shape , X_test.shape , y_train.shape , y_test.shape\n"
   ]
  },
  {
   "cell_type": "code",
   "execution_count": 43,
   "id": "7a4216fe-227a-4ef4-820b-b61c990e4292",
   "metadata": {},
   "outputs": [],
   "source": [
    "# Importing different models and evaluation metrics\n",
    "from sklearn.linear_model import LogisticRegression\n",
    "from sklearn.svm import SVC\n",
    "from sklearn.tree import DecisionTreeClassifier\n",
    "from sklearn.ensemble import RandomForestClassifier\n",
    "from sklearn.ensemble import AdaBoostClassifier\n",
    "from xgboost import XGBClassifier\n",
    "from sklearn.neighbors import KNeighborsClassifier\n",
    "from sklearn.metrics import accuracy_score , confusion_matrix, classification_report"
   ]
  },
  {
   "cell_type": "code",
   "execution_count": 58,
   "id": "aef32d8d-2f54-442d-9ce9-2f778a64cce7",
   "metadata": {},
   "outputs": [
    {
     "name": "stdout",
     "output_type": "stream",
     "text": [
      "******************************\n",
      "Evaluation report of model--  LogisticRegression()\n",
      "Accuracy report  0.9039812646370023\n",
      "Classification report \n",
      "               precision    recall  f1-score   support\n",
      "\n",
      "           0       0.92      0.92      0.92       533\n",
      "           1       0.87      0.87      0.87       321\n",
      "\n",
      "    accuracy                           0.90       854\n",
      "   macro avg       0.90      0.90      0.90       854\n",
      "weighted avg       0.90      0.90      0.90       854\n",
      "\n",
      "Confusion Matrix \n",
      "  [[492  41]\n",
      " [ 41 280]]\n",
      "******************************\n",
      "Evaluation report of model--  SVC()\n",
      "Accuracy report  0.9320843091334895\n",
      "Classification report \n",
      "               precision    recall  f1-score   support\n",
      "\n",
      "           0       0.96      0.93      0.94       533\n",
      "           1       0.89      0.93      0.91       321\n",
      "\n",
      "    accuracy                           0.93       854\n",
      "   macro avg       0.93      0.93      0.93       854\n",
      "weighted avg       0.93      0.93      0.93       854\n",
      "\n",
      "Confusion Matrix \n",
      "  [[498  35]\n",
      " [ 23 298]]\n",
      "******************************\n",
      "Evaluation report of model--  DecisionTreeClassifier()\n",
      "Accuracy report  0.9789227166276346\n",
      "Classification report \n",
      "               precision    recall  f1-score   support\n",
      "\n",
      "           0       0.98      0.99      0.98       533\n",
      "           1       0.98      0.97      0.97       321\n",
      "\n",
      "    accuracy                           0.98       854\n",
      "   macro avg       0.98      0.98      0.98       854\n",
      "weighted avg       0.98      0.98      0.98       854\n",
      "\n",
      "Confusion Matrix \n",
      "  [[526   7]\n",
      " [ 11 310]]\n",
      "******************************\n",
      "Evaluation report of model--  RandomForestClassifier()\n",
      "Accuracy report  0.9754098360655737\n",
      "Classification report \n",
      "               precision    recall  f1-score   support\n",
      "\n",
      "           0       0.98      0.98      0.98       533\n",
      "           1       0.96      0.97      0.97       321\n",
      "\n",
      "    accuracy                           0.98       854\n",
      "   macro avg       0.97      0.97      0.97       854\n",
      "weighted avg       0.98      0.98      0.98       854\n",
      "\n",
      "Confusion Matrix \n",
      "  [[521  12]\n",
      " [  9 312]]\n",
      "******************************\n",
      "Evaluation report of model--  AdaBoostClassifier()\n",
      "Accuracy report  0.9637002341920374\n",
      "Classification report \n",
      "               precision    recall  f1-score   support\n",
      "\n",
      "           0       0.98      0.96      0.97       533\n",
      "           1       0.94      0.97      0.95       321\n",
      "\n",
      "    accuracy                           0.96       854\n",
      "   macro avg       0.96      0.96      0.96       854\n",
      "weighted avg       0.96      0.96      0.96       854\n",
      "\n",
      "Confusion Matrix \n",
      "  [[513  20]\n",
      " [ 11 310]]\n",
      "******************************\n",
      "Evaluation report of model--  XGBClassifier(base_score=None, booster=None, callbacks=None,\n",
      "              colsample_bylevel=None, colsample_bynode=None,\n",
      "              colsample_bytree=None, device=None, early_stopping_rounds=None,\n",
      "              enable_categorical=False, eval_metric=None, feature_types=None,\n",
      "              gamma=None, grow_policy=None, importance_type=None,\n",
      "              interaction_constraints=None, learning_rate=None, max_bin=None,\n",
      "              max_cat_threshold=None, max_cat_to_onehot=None,\n",
      "              max_delta_step=None, max_depth=None, max_leaves=None,\n",
      "              min_child_weight=None, missing=nan, monotone_constraints=None,\n",
      "              multi_strategy=None, n_estimators=None, n_jobs=None,\n",
      "              num_parallel_tree=None, random_state=None, ...)\n",
      "Accuracy report  0.9789227166276346\n",
      "Classification report \n",
      "               precision    recall  f1-score   support\n",
      "\n",
      "           0       0.98      0.99      0.98       533\n",
      "           1       0.98      0.97      0.97       321\n",
      "\n",
      "    accuracy                           0.98       854\n",
      "   macro avg       0.98      0.98      0.98       854\n",
      "weighted avg       0.98      0.98      0.98       854\n",
      "\n",
      "Confusion Matrix \n",
      "  [[526   7]\n",
      " [ 11 310]]\n",
      "******************************\n",
      "Evaluation report of model--  KNeighborsClassifier()\n",
      "Accuracy report  0.8946135831381733\n",
      "Classification report \n",
      "               precision    recall  f1-score   support\n",
      "\n",
      "           0       0.92      0.92      0.92       533\n",
      "           1       0.86      0.86      0.86       321\n",
      "\n",
      "    accuracy                           0.89       854\n",
      "   macro avg       0.89      0.89      0.89       854\n",
      "weighted avg       0.89      0.89      0.89       854\n",
      "\n",
      "Confusion Matrix \n",
      "  [[488  45]\n",
      " [ 45 276]]\n"
     ]
    }
   ],
   "source": [
    "#  training the various model in a loop and evaluating their performance\n",
    "\n",
    "list_of_models= [LogisticRegression(),SVC(),DecisionTreeClassifier(),RandomForestClassifier(),AdaBoostClassifier(),\n",
    "                 XGBClassifier(),KNeighborsClassifier()]\n",
    "\n",
    "for mods in list_of_models:\n",
    "    model = mods\n",
    "    model.fit(X_train, y_train)\n",
    "    print(\"******************************\")\n",
    "    print(\"Evaluation report of model-- \", mods)\n",
    "    print(\"Accuracy report \" , accuracy_score(y_test, model.predict(X_test)))\n",
    "    print(\"Classification report \\n\", classification_report(y_test, model.predict(X_test)))\n",
    "    print(\"Confusion Matrix \\n \", confusion_matrix(y_test, model.predict(X_test)))\n",
    "    "
   ]
  },
  {
   "cell_type": "code",
   "execution_count": null,
   "id": "c4914c65-b309-477e-a0d3-3ed0853bdad3",
   "metadata": {},
   "outputs": [],
   "source": []
  }
 ],
 "metadata": {
  "kernelspec": {
   "display_name": "Python 3 (ipykernel)",
   "language": "python",
   "name": "python3"
  },
  "language_info": {
   "codemirror_mode": {
    "name": "ipython",
    "version": 3
   },
   "file_extension": ".py",
   "mimetype": "text/x-python",
   "name": "python",
   "nbconvert_exporter": "python",
   "pygments_lexer": "ipython3",
   "version": "3.11.7"
  }
 },
 "nbformat": 4,
 "nbformat_minor": 5
}
